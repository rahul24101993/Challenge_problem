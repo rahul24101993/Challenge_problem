{
 "cells": [
  {
   "cell_type": "markdown",
   "metadata": {},
   "source": [
    "# Question 2 : Calculate the surface of the building exposed to sunlight?\n",
    "# Assumption made:\n",
    "# ---> Sun is always on the leftmost\n",
    "# ----> All Buildings are on same level(datum), but with different heights\n",
    "# ----->Source p height is the largest from the given ground level when comapred with the building heights"
   ]
  },
  {
   "attachments": {
    "Untitled.png": {
     "image/png": "[encoded data removed]"
    }
   },
   "cell_type": "markdown",
   "metadata": {},
   "source": [
    "![Untitled.png](attachment:Untitled.png)"
   ]
  },
  {
   "cell_type": "code",
   "execution_count": 60,
   "metadata": {},
   "outputs": [
    {
     "name": "stdout",
     "output_type": "stream",
     "text": [
      "Case:  1\n",
      "8.0 units is exposed to sunlight\n",
      "Case:  2\n",
      "10.85 units is exposed to sunlight\n"
     ]
    }
   ],
   "source": [
    "import math\n",
    "def angles(a,b):       #a and b two lines with their coordinates function to calculate angle between two lines\n",
    "    m1=(a[1][1]-a[0][1])/(a[1][0]-a[0][0])       #calculating slope\n",
    "    m2=(b[1][1]-b[0][1])/(b[1][0]-b[0][0])         \n",
    "    e=(m1-m2)/(1-(m1*m2))\n",
    "    if e<0:\n",
    "        return (math.atan(-e))          #finding angles between the line\n",
    "    else:\n",
    "        return (math.atan(e))\n",
    "def distance(a,b):                                 #function to find the distance between two points\n",
    "    return math.sqrt(((b[0]-a[0])**2)+((b[1]-a[1])**2))            #finding distance between two points using distance formula\n",
    "\n",
    "\n",
    "#main function\n",
    "questions=[[[[4,0],[4,-5],[7,-5],[7,0]]],[[[4,0],[4,-5],[7,-5],[7,0]], [[0.4,-2],[0.4,-5],[2.5,-5],[2.5,-2]]]]  #questions sets\n",
    "case=1\n",
    "for q in questions:\n",
    "    Building_coordinates=q\n",
    "    Building_coordinates.reverse()\n",
    "    p=[-3.5,1]\n",
    "    angles_at_rightTop_vertices=[]                 #angle subtended by the sun on the top surface of the each building\n",
    "    for i in Building_coordinates:\n",
    "        if(i[1][1]<i[0][1]):        #to sense  anticlockwise\n",
    "            coord1=[i[3],p]\n",
    "            coord2=[i[3],i[0]]\n",
    "            angles_at_rightTop_vertices.append(angles(coord1,coord2))\n",
    "        else:\n",
    "            coord1=[i[2],p]       #to sense clockwise\n",
    "            coord2=[i[2],i[1]]\n",
    "            angles_at_rightTop_vertices.append(angles(coord1,coord2))\n",
    "    Length_of_each_buildings=[]                           # length of each building\n",
    "    for i in Building_coordinates:\n",
    "        Length_of_each_buildings.append(distance(i[0],i[1]))\n",
    "    e=distance(Building_coordinates[0][0],Building_coordinates[0][1])\n",
    "    f=distance(Building_coordinates[0][1],Building_coordinates[0][2])    \n",
    "    net_length=(e+f)\n",
    "    count=0\n",
    "    p=0\n",
    "    for i in range(1,len(Length_of_each_buildings)):\n",
    "        if Length_of_each_buildings[i]>Length_of_each_buildings[i-1]:             #if the building on left is taller than it \n",
    "            m=distance(Building_coordinates[i-1][0],Building_coordinates[i-1][1])  # 'won't get any sunlight\n",
    "            e=distance(Building_coordinates[i][0],Building_coordinates[i][1])\n",
    "            e=e-m\n",
    "            f=distance(Building_coordinates[i][1],Building_coordinates[i][2])\n",
    "            if(Building_coordinates[i][0][1]>Building_coordinates[i][1][1]):               #sensing given coordinates clockwise\n",
    "                dist=distance(Building_coordinates[i-1][2],Building_coordinates[i][1])     #or anticlockwise\n",
    "                p=(math.tan(angles_at_rightTop_vertices[count]))*dist\n",
    "            else:\n",
    "                dist=distance(Building_coordinates[i-1][3],Building_coordinates[i][0])\n",
    "                p=(math.tan(angles_at_rightTop_vertices[count]))*dist\n",
    "            net_length=net_length+(e+f+p)\n",
    "        else:\n",
    "            continue\n",
    "    print('Case: ', case)                                    #printing each given case\n",
    "    print(net_length, \"units is exposed to sunlight\")        #net length exposed to sunlight\n",
    "    case+=1"
   ]
  },
  {
   "cell_type": "code",
   "execution_count": null,
   "metadata": {},
   "outputs": [],
   "source": []
  }
 ],
 "metadata": {
  "kernelspec": {
   "display_name": "Python 3",
   "language": "python",
   "name": "python3"
  },
  "language_info": {
   "codemirror_mode": {
    "name": "ipython",
    "version": 3
   },
   "file_extension": ".py",
   "mimetype": "text/x-python",
   "name": "python",
   "nbconvert_exporter": "python",
   "pygments_lexer": "ipython3",
   "version": "3.7.4"
  }
 },
 "nbformat": 4,
 "nbformat_minor": 2
}
